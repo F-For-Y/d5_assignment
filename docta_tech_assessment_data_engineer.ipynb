{
  "cells": [
    {
      "cell_type": "markdown",
      "metadata": {
        "id": "hD4q_bFhvkT_"
      },
      "source": [
        "## Reformat a Public Dataset for LLM Training\n",
        "\n",
        "### Objective\n",
        "\n",
        "The goal of this task is to prepare public datasets for more effective use in training and fine-tuning Large Language Models (LLMs). You are required to reformat a specific subset of a public dataset into a structured, consistent format to facilitate its usability.\n",
        "\n",
        "### Detailed Instructions\n",
        "\n",
        "#### 1. Dataset Selection and Preparation\n",
        "\n",
        "- **Dataset:** You are assigned the `Headline` subset of the [AdaptLLM/finance-tasks](https://huggingface.co/datasets/AdaptLLM/finance-tasks) dataset.\n",
        "\n",
        "- **Task Description:** Each entry in the `input` column contains multiple \"Yes\" or \"No\" questions alongside their respective answers. Your task is to:\n",
        "\n",
        "  - Develop a Python script to parse and separate each question and its answer from the entry.\n",
        "  - Save each question-answer pair in a structured JSON format as follows:\n",
        "    ```json\n",
        "    {\n",
        "      \"id\": \"<unique_identifier>\",\n",
        "      \"Question\": \"<question_text>\",\n",
        "      \"Answer\": \"<answer_text>\"\n",
        "    }\n",
        "    ```\n",
        "\n",
        "  - You are encouraged to introduce additional attributes if needed to preserve the integrity and completeness of the information. Adding relevant tag information is strongly recommended.\n",
        "- **Automation Requirement:** The task must be completed using Python. Manual editing or data manipulation is strictly prohibited. Your script should efficiently handle variations in data format within the column.\n",
        "\n",
        "#### 2. Deliverables\n",
        "\n",
        "- **Reformatted Dataset:** Provide the schema of the final format you adopted for saving the results.\n",
        "- **Transformation Code:** Submit the complete code used for converting the dataset into the designated format.\n",
        "- **Statistics:** Report the total number of question-answer pairs extracted from the dataset.\n",
        "- **Performance Metrics:** Document the time taken to complete the dataset cleanup and transformation process.\n"
      ]
    },
    {
      "cell_type": "code",
      "execution_count": 210,
      "metadata": {
        "id": "-YRY45GmzbZQ"
      },
      "outputs": [],
      "source": [
        "from tqdm import tqdm\n",
        "import pandas as pd\n",
        "import random\n",
        "import json \n",
        "import re"
      ]
    },
    {
      "cell_type": "code",
      "execution_count": 211,
      "metadata": {},
      "outputs": [],
      "source": [
        "dataset_fina = json.load(open('test.json'))"
      ]
    },
    {
      "cell_type": "code",
      "execution_count": 212,
      "metadata": {},
      "outputs": [
        {
          "name": "stdout",
          "output_type": "stream",
          "text": [
            "Key: id -> Type: <class 'int'>\n",
            "Key: input -> Type: <class 'str'>\n",
            "Key: options -> Type: <class 'list'>\n",
            "Key: gold_index -> Type: <class 'int'>\n",
            "Key: class_id -> Type: <class 'int'>\n"
          ]
        }
      ],
      "source": [
        "for key, value in dataset_fina[0].items():\n",
        "    # Print the key and the type of its corresponding value\n",
        "    print(f\"Key: {key} -> Type: {type(value)}\")"
      ]
    },
    {
      "cell_type": "markdown",
      "metadata": {},
      "source": [
        "### 1. Parse the data into reformatted file"
      ]
    },
    {
      "cell_type": "markdown",
      "metadata": {},
      "source": [
        "##### There are some typo error for sentences like: \"gold tumbles to 9-month low at rs 8,520 \\n\\n\"\n",
        "- the ids of which are: [2480, 14500, 17352, 17990]"
      ]
    },
    {
      "cell_type": "code",
      "execution_count": 213,
      "metadata": {},
      "outputs": [],
      "source": [
        "reformatted_json = []\n",
        "typo_error_list = [2480, 14500, 17352, 17990]\n",
        "typo_error_str = \"gold tumbles to 9-month low at rs 8,520 \\n\\n\"\n",
        "\n",
        "def extract_last_yes_or_no(sentence: str):\n",
        "    \"\"\"\n",
        "    This regular expression looks for the words \"Yes\" or \"No\" in the sentence.\n",
        "    It returns the last word and the rest of the sentence.\n",
        "    \"\"\"\n",
        "    pattern = r'(.*\\b)(Yes|No)(\\b.*)$'\n",
        "    match = re.search(pattern, sentence, flags=re.IGNORECASE)\n",
        "\n",
        "    if match:\n",
        "        # Extract the word \"Yes\" or \"No\" that was matched\n",
        "        word_removed = match.group(2)\n",
        "        # Remove the word from the sentence\n",
        "        modified_sentence = re.sub(pattern, r'\\1\\3', sentence, flags=re.IGNORECASE)\n",
        "        return word_removed, modified_sentence\n",
        "    else:\n",
        "        return sentence, None \n",
        "\n",
        "\n",
        "def fill_into_template(reformatted_json: list[dict], item: dict, typo_error_list: list[int] = None) -> list:\n",
        "    \"\"\"\n",
        "    Fill the template with the item's data.\n",
        "    The function will split question-answer in the input \n",
        "    by (\"\\n\\n\"), and extract the answer using last \"Yes\" or \"No\" \n",
        "    in the question-answer sentence. \n",
        "    \"\"\"\n",
        "    if item['id'] in typo_error_list:\n",
        "        item['input'] = item['input'].replace(\"gold tumbles to 9-month low at rs 8,520 \\n\\n\", \"gold tumbles to 9-month low at rs 8,520 \\n\")\n",
        "    input = item['input'] + ' ' + item['options'][item['gold_index']]\n",
        "    question_answer_list = input.split(\"\\n\\n\")\n",
        "    for sentence in question_answer_list:\n",
        "        answer, question = extract_last_yes_or_no(sentence)\n",
        "        if question and answer:\n",
        "            item_template = {\n",
        "                'id': len(reformatted_json), \n",
        "                'Question': question.replace(\"\\\"\", \"\"),\n",
        "                'Answer': answer,\n",
        "                'class_id': item['class_id'],\n",
        "            }\n",
        "            reformatted_json.append(item_template)\n",
        "        else:\n",
        "            print(f\"Error: {sentence}\")\n",
        "            print(item['id'])\n",
        "            \n",
        "    pass\n"
      ]
    },
    {
      "cell_type": "code",
      "execution_count": 214,
      "metadata": {},
      "outputs": [
        {
          "name": "stderr",
          "output_type": "stream",
          "text": [
            "Procesing dataset: 100%|██████████| 20547/20547 [00:07<00:00, 2869.19it/s]\n"
          ]
        }
      ],
      "source": [
        "for item in tqdm(dataset_fina, desc='Procesing dataset'):\n",
        "    fill_into_template(reformatted_json, item, typo_error_list)"
      ]
    },
    {
      "cell_type": "markdown",
      "metadata": {},
      "source": [
        "### 2. Let's see the reformatted output"
      ]
    },
    {
      "cell_type": "code",
      "execution_count": 215,
      "metadata": {},
      "outputs": [
        {
          "name": "stdout",
          "output_type": "stream",
          "text": [
            "Number of questions in the reformatted dataset: 123282\n"
          ]
        }
      ],
      "source": [
        "print(f\"Number of questions in the reformatted dataset: {len(reformatted_json)}\")"
      ]
    },
    {
      "cell_type": "code",
      "execution_count": 216,
      "metadata": {},
      "outputs": [
        {
          "data": {
            "text/plain": [
              "{'id': 89959,\n",
              " 'Question': 'SEBI allows gold ETFs to invest in Gold Deposit Schemes Does the news headline talk about price in the past? ',\n",
              " 'Answer': 'No',\n",
              " 'class_id': 0}"
            ]
          },
          "execution_count": 216,
          "metadata": {},
          "output_type": "execute_result"
        }
      ],
      "source": [
        "reformatted_json[random.randint(0, len(reformatted_json))]"
      ]
    },
    {
      "cell_type": "markdown",
      "metadata": {},
      "source": [
        "### 3. Let's look in Dataframe"
      ]
    },
    {
      "cell_type": "code",
      "execution_count": 217,
      "metadata": {},
      "outputs": [
        {
          "name": "stdout",
          "output_type": "stream",
          "text": [
            "<class 'pandas.core.frame.DataFrame'>\n",
            "RangeIndex: 123282 entries, 0 to 123281\n",
            "Data columns (total 4 columns):\n",
            " #   Column    Non-Null Count   Dtype \n",
            "---  ------    --------------   ----- \n",
            " 0   id        123282 non-null  int64 \n",
            " 1   Question  123282 non-null  object\n",
            " 2   Answer    123282 non-null  object\n",
            " 3   class_id  123282 non-null  int64 \n",
            "dtypes: int64(2), object(2)\n",
            "memory usage: 3.8+ MB\n"
          ]
        }
      ],
      "source": [
        "df = pd.DataFrame(reformatted_json)\n",
        "df.info()"
      ]
    },
    {
      "cell_type": "code",
      "execution_count": 218,
      "metadata": {},
      "outputs": [],
      "source": [
        "# output reformatted json to reformatted.json\n",
        "with open('reformatted.json', 'w') as f:\n",
        "    json.dump(reformatted_json, f, indent=4)"
      ]
    }
  ],
  "metadata": {
    "colab": {
      "provenance": []
    },
    "kernelspec": {
      "display_name": "Python 3 (ipykernel)",
      "language": "python",
      "name": "python3"
    },
    "language_info": {
      "codemirror_mode": {
        "name": "ipython",
        "version": 3
      },
      "file_extension": ".py",
      "mimetype": "text/x-python",
      "name": "python",
      "nbconvert_exporter": "python",
      "pygments_lexer": "ipython3",
      "version": "3.11.4"
    }
  },
  "nbformat": 4,
  "nbformat_minor": 0
}
